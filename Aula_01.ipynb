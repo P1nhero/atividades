{
  "nbformat": 4,
  "nbformat_minor": 0,
  "metadata": {
    "colab": {
      "provenance": []
    },
    "kernelspec": {
      "name": "python3",
      "display_name": "Python 3"
    },
    "language_info": {
      "name": "python"
    }
  },
  "cells": [
    {
      "cell_type": "code",
      "execution_count": null,
      "metadata": {
        "id": "VEJC_nBtB9cE"
      },
      "outputs": [],
      "source": [
        "#CÉLULA1:--------------------------------------------------\n",
        "from skimage import io, color\n",
        "\n",
        "#Carregar uma imagem de uma URL ou arquivo\n",
        "imagem = io.imread('https://raw.githubusercontent.com/koyachi/go-lena/master/example/lena.result.jpg')\n",
        "\n",
        "# Carregar a imagem da pasta do colab\n",
        "# imagem = io.imread('nome_do_arquivo.jpg')\n",
        "\n",
        "# Exibir a imagem\n",
        "io.imshow(imagem)\n",
        "#io.show()\n",
        "\n",
        "# Exibir as dimensões da imagem (dimensões da matriz)\n",
        "print(\"\\nDimensão da Imagem:\", imagem.shape)\n",
        "\n",
        "# Exibir a matriz de cada canal\n",
        "print(\"\\n Matriz do Canal RED da imagem: \\n\", imagem[:,:,0])\n",
        "print(\"\\n Matriz do Canal GREEN da imagem: \\n\", imagem[:,:,1])\n",
        "print(\"\\n Matriz do Canal BLUE da imagem: \\n\", imagem[:,:,2])"
      ]
    },
    {
      "cell_type": "markdown",
      "source": [
        "1.B) Construindo **HISTOGRAMA** de imagem"
      ],
      "metadata": {
        "id": "225gZFxyCy6e"
      }
    },
    {
      "cell_type": "code",
      "source": [
        "CÉLULA2-------------------------------------------------\n",
        "# Construa o histograma da imagem\n",
        "from skimage import io, exposure\n",
        "frequencia, valores = exposure.histogram(imagem)\n",
        "\n",
        "#Exibir o histograma\n",
        "import matplotlib.pyplot as plt\n",
        "\n",
        "plt.plot(valores, frequencia)\n",
        "plt.xlabel('Valores de Intensidade')\n",
        "plt.ylabel('Frequência')\n",
        "plt.title('Histograma da Imagem')\n",
        "plt.show()\n"
      ],
      "metadata": {
        "id": "J5H449S0CXq2"
      },
      "execution_count": null,
      "outputs": []
    },
    {
      "cell_type": "markdown",
      "source": [
        "Conversão escala da Cinza"
      ],
      "metadata": {
        "id": "jJkwarb4Cw3-"
      }
    },
    {
      "cell_type": "code",
      "source": [
        "CÉLULA3-----------------------------------------------\n",
        "from skimage import io, color, img_as_ubyte\n",
        "\n",
        "# Carregar a imagem de uma URL\n",
        "#Carregar uma imagem de uma URL ou arquivo\n",
        "imagem = io.imread('https://raw.githubusercontent.com/koyachi/go-lena/master/example/lena.result.jpg')\n",
        "\n",
        "# Converter para a escala de cinza\n",
        "imagem_cinza = color.rgb2gray(imagem)\n",
        "imagem_cinza = img_as_ubyte(imagem_cinza) # converte os pixels para o intervalo de 0 a 255\n",
        "\n",
        "# Salvar a imagem na pasta do Colab ao lado\n",
        "io.imsave('imagem_em_escala_de_cinza.jpg', imagem_cinza)\n",
        "\n",
        "#Exibir a imagem\n",
        "io.imshow(imagem_cinza)\n",
        "\n",
        "# Exibir as dimensões da imagem\n",
        "print(\"Dimensão da Imagem: \", imagem_cinza.shape)"
      ],
      "metadata": {
        "id": "QQmdbihUChU3"
      },
      "execution_count": null,
      "outputs": []
    },
    {
      "cell_type": "markdown",
      "source": [
        "redimencionar imagem"
      ],
      "metadata": {
        "id": "PAocOEGvDU6v"
      }
    },
    {
      "cell_type": "code",
      "source": [
        "#CÉLULA4----------------------------------------------\n",
        "from skimage import io, transform, img_as_ubyte\n",
        "import os\n",
        "\n",
        "# Carregar uma imagem de uma URL ou arquivo\n",
        "imagem = io.imread('https://raw.githubusercontent.com/koyachi/go-lena/master/example/lena.result.jpg')\n",
        "\n",
        "# Obter as dimensões da imagem\n",
        "altura, largura = imagem.shape[:2] # [:2] para pegar apenas as duas primeiras dimensões\n",
        "print(f\"Largura: {largura}, Altura: {altura}\")\n",
        "\n",
        "#Definir a nova largura e altura (verifique a proporção da imagem original)\n",
        "valor = int(input(\"Digite um valor para redimnesionar: \"))\n",
        "nova_largura = largura/valor\n",
        "print(\"Nova Largura\", nova_largura)\n",
        "nova_altura = altura/valor\n",
        "print(\"Nova Altura\", nova_altura)\n",
        "\n",
        "# Rediensionar a Imagem\n",
        "imagem_redimensionada = transform.resize(imagem, (nova_altura,nova_largura))\n",
        "imagem_redimensionada = img_as_ubyte(imagem_redimensionada)\n",
        "\n",
        "# Salvar a imagem napasta do Colab\n",
        "io.imsave('imagem_redimensionada.jpg', imagem_redimensionada)\n",
        "\n",
        "# Exibir a imagem redimensionada\n",
        "io.imshow(imagem_redimensionada)\n",
        "\n"
      ],
      "metadata": {
        "id": "u5x-ze6lDcOW"
      },
      "execution_count": null,
      "outputs": []
    },
    {
      "cell_type": "markdown",
      "source": [
        "rotacionar imagem"
      ],
      "metadata": {
        "id": "p-FrFxCgJfFP"
      }
    },
    {
      "cell_type": "code",
      "source": [
        "#CÉLULA5---------------------------------------------\n",
        "from skimage import io, transform, img_as_ubyte\n",
        "\n",
        "# Carregar a imagem de uma URL\n",
        "imagem = io.imread('https://raw.githubusercontent.com/koyachi/go-lena/master/example/lena.result.jpg')\n",
        "\n",
        "# Girar aimagem xx graus no sentido anti-horário  ou -xx graus noo sentido horário\n",
        "angulo = int(input(\"'Digite o angulo de rotação: \"))\n",
        "imagem_rotacionada = transform.rotate(imagem, angulo)\n",
        "imagem_rotacionada = img_as_ubyte(imagem_rotacionada)\n",
        "\n",
        "# Salvar a imagem\n",
        "io.imsave('imagem_rotacionada.jpg', imagem_rotacionada)\n",
        "\n",
        "# Exibir a imagem rotacionada\n",
        "io.imshow(imagem_rotacionada)\n"
      ],
      "metadata": {
        "id": "eUTZV1fLI8v4"
      },
      "execution_count": null,
      "outputs": []
    },
    {
      "cell_type": "markdown",
      "source": [
        "recorta imagem"
      ],
      "metadata": {
        "id": "uASOYR1NJxku"
      }
    },
    {
      "cell_type": "code",
      "source": [
        "#CÉLULA6-------------------------------------------\n",
        "from skimage import io, transform, img_as_ubyte\n",
        "\n",
        "# Carregar a imagem de uma URL\n",
        "imagem = io.imread('https://raw.githubusercontent.com/koyachi/go-lena/master/example/lena.result.jpg')\n",
        "\n",
        "# Definir as coordenadas da região de Interesse(ROI)\n",
        "x1, y1, x2, y2 = 250, 320, 350, 380 #Exemplo de coordenadas\n",
        "\n",
        "# Recorte a imagem para o ROI\n",
        "imagem_recortada = imagem[y1:y2, x1:x2]\n",
        "imagem_recortada = img_as_ubyte(imagem_recortada)\n",
        "\n",
        "# Salvar a imagem na pasta do Colab\n",
        "io.imsave('imagem_recortada.jpg', imagem_recortada)\n",
        "\n",
        "# Exibir a imagem recortada\n",
        "io.imshow(imagem_recortada)\n"
      ],
      "metadata": {
        "colab": {
          "base_uri": "https://localhost:8080/",
          "height": 467
        },
        "id": "hfP0KMQmJzk9",
        "outputId": "92969b96-ea9a-4b99-e481-99d9240980d5"
      },
      "execution_count": 11,
      "outputs": [
        {
          "output_type": "stream",
          "name": "stderr",
          "text": [
            "<ipython-input-11-97a6dbe8faac>:18: FutureWarning: `imshow` is deprecated since version 0.25 and will be removed in version 0.27. Please use `matplotlib`, `napari`, etc. to visualize images.\n",
            "  io.imshow(imagem_recortada)\n"
          ]
        },
        {
          "output_type": "execute_result",
          "data": {
            "text/plain": [
              "<matplotlib.image.AxesImage at 0x7f1832436250>"
            ]
          },
          "metadata": {},
          "execution_count": 11
        },
        {
          "output_type": "display_data",
          "data": {
            "text/plain": [
              "<Figure size 640x480 with 1 Axes>"
            ],
            "image/png": "[encoded data removed]"
          },
          "metadata": {}
        }
      ]
    }
  ]
}